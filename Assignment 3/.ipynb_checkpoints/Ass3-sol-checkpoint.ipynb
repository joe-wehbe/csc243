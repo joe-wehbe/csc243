{
 "cells": [
  {
   "cell_type": "markdown",
   "metadata": {},
   "source": [
    "### Question 1"
   ]
  },
  {
   "cell_type": "code",
   "execution_count": 19,
   "metadata": {},
   "outputs": [
    {
     "name": "stdout",
     "output_type": "stream",
     "text": [
      "Helloworld!\n"
     ]
    }
   ],
   "source": [
    "def removeSpaces(s):\n",
    "    output = \"\"\n",
    "    for i in s:\n",
    "        if i != \" \":\n",
    "            output += i\n",
    "    return output\n",
    "\n",
    "print(removeSpaces(\"  Hello    world!     \"))"
   ]
  },
  {
   "cell_type": "markdown",
   "metadata": {},
   "source": [
    "### Question 2"
   ]
  },
  {
   "cell_type": "code",
   "execution_count": 9,
   "metadata": {},
   "outputs": [
    {
     "data": {
      "text/plain": [
       "'olleholleholleholleholleh'"
      ]
     },
     "execution_count": 9,
     "metadata": {},
     "output_type": "execute_result"
    }
   ],
   "source": [
    "def reverseConcatenate(s, i):\n",
    "    if i < 0:\n",
    "        i = -i\n",
    "    \n",
    "    reversed_s = \"\"\n",
    "    \n",
    "    for j in range(len(s)-1, -1, -1):\n",
    "        current = s[j]\n",
    "        reversed_s += current\n",
    "        \n",
    "    return (i*reversed_s)\n",
    "\n",
    "reverseConcatenate(\"hello\", 5)"
   ]
  },
  {
   "cell_type": "markdown",
   "metadata": {},
   "source": [
    "### Question 3"
   ]
  },
  {
   "cell_type": "code",
   "execution_count": 12,
   "metadata": {},
   "outputs": [
    {
     "name": "stdout",
     "output_type": "stream",
     "text": [
      "The vowel in the strings are:\n",
      "e: 1\n",
      "o: 2\n"
     ]
    }
   ],
   "source": [
    "def countVowels(s):\n",
    "    a_count = e_count = i_count = o_count = u_count = 0\n",
    "    \n",
    "    for i in s.lower():\n",
    "        if i == \"a\":\n",
    "            a_count += 1\n",
    "        elif i == \"e\":\n",
    "            e_count += 1\n",
    "        elif i == \"i\":\n",
    "            i_count += 1\n",
    "        elif i == \"o\":\n",
    "            o_count += 1\n",
    "        elif i == \"u\":\n",
    "            u_count += 1  \n",
    "            \n",
    "    if a_count == 0 and e_count == 0 and i_count == 0 and o_count == 0 and u_count == 0:\n",
    "        print(\"The string does not contain vowels\")\n",
    "    else:    \n",
    "        print(\"The vowel in the strings are:\")\n",
    "        if a_count >= 1:\n",
    "            print('a:', a_count)\n",
    "        if e_count >= 1:\n",
    "            print('e:', e_count)\n",
    "        if i_count >= 1:\n",
    "            print('i:', i_count)  \n",
    "        if o_count >= 1:\n",
    "            print('o:', o_count)\n",
    "        if u_count >= 1:\n",
    "            print('u:', u_count)     \n",
    "           \n",
    "countVowels(\"Hello world\")            "
   ]
  },
  {
   "cell_type": "markdown",
   "metadata": {},
   "source": [
    "### Question 4"
   ]
  },
  {
   "cell_type": "code",
   "execution_count": 47,
   "metadata": {},
   "outputs": [
    {
     "name": "stdout",
     "output_type": "stream",
     "text": [
      "HWQWDRelloorldsdfghj\n"
     ]
    }
   ],
   "source": [
    "def rearrangeUpperLower(s):\n",
    "    output = \"\"\n",
    "    lowercase_s = \"\"\n",
    "    \n",
    "    for i in s:\n",
    "        if i >= 'A' and i <= 'Z':\n",
    "            output += i\n",
    "        elif i >= 'a' and i <= 'z':\n",
    "            lowercase_s += i\n",
    "            \n",
    "    return output + lowercase_s\n",
    "\n",
    "new_string = rearrangeUpperLower(\"Hello WorldQWDRsdfghj\")\n",
    "print(new_string)"
   ]
  },
  {
   "cell_type": "markdown",
   "metadata": {},
   "source": [
    "### Question 5"
   ]
  },
  {
   "cell_type": "code",
   "execution_count": 30,
   "metadata": {},
   "outputs": [
    {
     "data": {
      "text/plain": [
       "True"
      ]
     },
     "execution_count": 30,
     "metadata": {},
     "output_type": "execute_result"
    }
   ],
   "source": [
    "def swap(arr, i, j):\n",
    "    temp = arr[i]\n",
    "    arr[i] = arr[j]\n",
    "    arr[j] = temp\n",
    "\n",
    "def isReordered(s1, s2):\n",
    "    if len(s1) != len(s2):\n",
    "        return False\n",
    "    else :\n",
    "        sorted_s1 = list(s1)\n",
    "        sorted_s2 = list(s2)\n",
    "        \n",
    "        for i in range(0, len(s1)-1):\n",
    "            for j in range(i+1, len(s1)):\n",
    "                if sorted_s1[i] > sorted_s1[j]:\n",
    "                    swap(sorted_s1, i, j)\n",
    "                if sorted_s2[i] > sorted_s2[j]:\n",
    "                    swap(sorted_s2, i, j)\n",
    "        if sorted_s1 == sorted_s2:\n",
    "            return True\n",
    "        \n",
    "        return False\n",
    "\n",
    "print(isReordered('abdref', 'aedbrf'))"
   ]
  },
  {
   "cell_type": "markdown",
   "metadata": {},
   "source": [
    "### Question 6"
   ]
  },
  {
   "cell_type": "code",
   "execution_count": 1,
   "metadata": {},
   "outputs": [
    {
     "name": "stdout",
     "output_type": "stream",
     "text": [
      "1.Create a list\n",
      "2.Search for an element in the list\n",
      "3.Merge two lists\n",
      "4.Sort the list\n",
      "------------------------------------\n",
      "Enter your choice: 2\n",
      "Please create a list first!\n",
      "------------------------------------\n",
      "Enter your choice: 3\n",
      "Please create a list first!\n",
      "------------------------------------\n",
      "Enter your choice: 1\n",
      "Enter elements you want to add to your list with commas ',' in between: 1,2,3,4,5\n",
      "Enter your choice: 2\n",
      "Enter the element you're searching for: 3\n",
      "Your element is at index 2\n",
      "Enter your choice: 4\n",
      "Your new sorted list is [1, 2, 3, 4, 5]\n",
      "Enter your choice: 3\n",
      "Enter elements you want to add to your list with commas ',' in between: 5,6,3,6,2\n"
     ]
    },
    {
     "ename": "NameError",
     "evalue": "name 'swap' is not defined",
     "output_type": "error",
     "traceback": [
      "\u001b[1;31m---------------------------------------------------------------------------\u001b[0m",
      "\u001b[1;31mNameError\u001b[0m                                 Traceback (most recent call last)",
      "\u001b[1;32m<ipython-input-1-78fc274cded9>\u001b[0m in \u001b[0;36m<module>\u001b[1;34m\u001b[0m\n\u001b[0;32m     73\u001b[0m     \u001b[1;32mreturn\u001b[0m\u001b[1;33m\u001b[0m\u001b[1;33m\u001b[0m\u001b[0m\n\u001b[0;32m     74\u001b[0m \u001b[1;33m\u001b[0m\u001b[0m\n\u001b[1;32m---> 75\u001b[1;33m \u001b[0mmain\u001b[0m\u001b[1;33m(\u001b[0m\u001b[1;33m)\u001b[0m\u001b[1;33m\u001b[0m\u001b[1;33m\u001b[0m\u001b[0m\n\u001b[0m",
      "\u001b[1;32m<ipython-input-1-78fc274cded9>\u001b[0m in \u001b[0;36mmain\u001b[1;34m()\u001b[0m\n\u001b[0;32m     56\u001b[0m             \u001b[1;32melse\u001b[0m\u001b[1;33m:\u001b[0m\u001b[1;33m\u001b[0m\u001b[1;33m\u001b[0m\u001b[0m\n\u001b[0;32m     57\u001b[0m                 \u001b[0mlist2\u001b[0m \u001b[1;33m=\u001b[0m \u001b[0mcreate\u001b[0m\u001b[1;33m(\u001b[0m\u001b[1;33m)\u001b[0m\u001b[1;33m\u001b[0m\u001b[1;33m\u001b[0m\u001b[0m\n\u001b[1;32m---> 58\u001b[1;33m                 \u001b[0mmerged_list\u001b[0m \u001b[1;33m=\u001b[0m \u001b[0mmerge\u001b[0m\u001b[1;33m(\u001b[0m\u001b[0mlist1\u001b[0m\u001b[1;33m,\u001b[0m \u001b[0mlist2\u001b[0m\u001b[1;33m)\u001b[0m\u001b[1;33m\u001b[0m\u001b[1;33m\u001b[0m\u001b[0m\n\u001b[0m\u001b[0;32m     59\u001b[0m                 \u001b[0mprint\u001b[0m\u001b[1;33m(\u001b[0m\u001b[1;34m\"Your merged new sorted merged list is\"\u001b[0m\u001b[1;33m,\u001b[0m \u001b[0mmerged_list\u001b[0m\u001b[1;33m)\u001b[0m\u001b[1;33m\u001b[0m\u001b[1;33m\u001b[0m\u001b[0m\n\u001b[0;32m     60\u001b[0m         \u001b[1;32melif\u001b[0m \u001b[0moption\u001b[0m \u001b[1;33m==\u001b[0m \u001b[1;34m'4'\u001b[0m\u001b[1;33m:\u001b[0m\u001b[1;33m\u001b[0m\u001b[1;33m\u001b[0m\u001b[0m\n",
      "\u001b[1;32m<ipython-input-1-78fc274cded9>\u001b[0m in \u001b[0;36mmerge\u001b[1;34m(arr1, arr2)\u001b[0m\n\u001b[0;32m     12\u001b[0m \u001b[1;32mdef\u001b[0m \u001b[0mmerge\u001b[0m\u001b[1;33m(\u001b[0m\u001b[0marr1\u001b[0m\u001b[1;33m,\u001b[0m \u001b[0marr2\u001b[0m\u001b[1;33m)\u001b[0m\u001b[1;33m:\u001b[0m\u001b[1;33m\u001b[0m\u001b[1;33m\u001b[0m\u001b[0m\n\u001b[0;32m     13\u001b[0m     \u001b[0ml1\u001b[0m \u001b[1;33m=\u001b[0m \u001b[0msort\u001b[0m\u001b[1;33m(\u001b[0m\u001b[0marr1\u001b[0m\u001b[1;33m)\u001b[0m\u001b[1;33m\u001b[0m\u001b[1;33m\u001b[0m\u001b[0m\n\u001b[1;32m---> 14\u001b[1;33m     \u001b[0ml2\u001b[0m \u001b[1;33m=\u001b[0m \u001b[0msort\u001b[0m\u001b[1;33m(\u001b[0m\u001b[0marr2\u001b[0m\u001b[1;33m)\u001b[0m\u001b[1;33m\u001b[0m\u001b[1;33m\u001b[0m\u001b[0m\n\u001b[0m\u001b[0;32m     15\u001b[0m     \u001b[0mmerged_list\u001b[0m \u001b[1;33m=\u001b[0m \u001b[0ml1\u001b[0m \u001b[1;33m+\u001b[0m \u001b[0ml2\u001b[0m\u001b[1;33m\u001b[0m\u001b[1;33m\u001b[0m\u001b[0m\n\u001b[0;32m     16\u001b[0m     \u001b[0mmerged\u001b[0m \u001b[1;33m=\u001b[0m \u001b[0msort\u001b[0m\u001b[1;33m(\u001b[0m\u001b[0mmerged_list\u001b[0m\u001b[1;33m)\u001b[0m\u001b[1;33m\u001b[0m\u001b[1;33m\u001b[0m\u001b[0m\n",
      "\u001b[1;32m<ipython-input-1-78fc274cded9>\u001b[0m in \u001b[0;36msort\u001b[1;34m(arr)\u001b[0m\n\u001b[0;32m     22\u001b[0m         \u001b[1;32mfor\u001b[0m \u001b[0mj\u001b[0m \u001b[1;32min\u001b[0m \u001b[0mrange\u001b[0m\u001b[1;33m(\u001b[0m\u001b[0mi\u001b[0m \u001b[1;33m+\u001b[0m \u001b[1;36m1\u001b[0m\u001b[1;33m,\u001b[0m \u001b[0mlen\u001b[0m\u001b[1;33m(\u001b[0m\u001b[0marr\u001b[0m\u001b[1;33m)\u001b[0m\u001b[1;33m)\u001b[0m\u001b[1;33m:\u001b[0m\u001b[1;33m\u001b[0m\u001b[1;33m\u001b[0m\u001b[0m\n\u001b[0;32m     23\u001b[0m             \u001b[1;32mif\u001b[0m \u001b[0marr\u001b[0m\u001b[1;33m[\u001b[0m\u001b[0mi\u001b[0m\u001b[1;33m]\u001b[0m \u001b[1;33m>\u001b[0m \u001b[0marr\u001b[0m\u001b[1;33m[\u001b[0m\u001b[0mj\u001b[0m\u001b[1;33m]\u001b[0m\u001b[1;33m:\u001b[0m\u001b[1;33m\u001b[0m\u001b[1;33m\u001b[0m\u001b[0m\n\u001b[1;32m---> 24\u001b[1;33m                 \u001b[0mswap\u001b[0m\u001b[1;33m(\u001b[0m\u001b[0marr\u001b[0m\u001b[1;33m,\u001b[0m \u001b[0mi\u001b[0m\u001b[1;33m,\u001b[0m \u001b[0mj\u001b[0m\u001b[1;33m)\u001b[0m\u001b[1;33m\u001b[0m\u001b[1;33m\u001b[0m\u001b[0m\n\u001b[0m\u001b[0;32m     25\u001b[0m     \u001b[1;32mreturn\u001b[0m \u001b[0marr\u001b[0m\u001b[1;33m\u001b[0m\u001b[1;33m\u001b[0m\u001b[0m\n\u001b[0;32m     26\u001b[0m \u001b[1;33m\u001b[0m\u001b[0m\n",
      "\u001b[1;31mNameError\u001b[0m: name 'swap' is not defined"
     ]
    }
   ],
   "source": [
    "def create():\n",
    "    elements = input(\"Enter elements you want to add to your list with commas ',' in between: \").split(',')\n",
    "    elements_final = [eval(x) for x in elements]\n",
    "    return elements_final\n",
    "\n",
    "def search(arr, k):\n",
    "    for i in range(len(arr)):\n",
    "        if arr[i] == k:\n",
    "            return i\n",
    "    return -1    \n",
    "    \n",
    "def merge(arr1, arr2):\n",
    "    l1 = sort(arr1)\n",
    "    l2 = sort(arr2)\n",
    "    merged_list = l1 + l2\n",
    "    merged = sort(merged_list)\n",
    "    return merged\n",
    "\n",
    "def sort(arr):\n",
    "    #using the swap function created in the previous cell\n",
    "    for i in range(0, len(arr)-1):\n",
    "        for j in range(i + 1, len(arr)):\n",
    "            if arr[i] > arr[j]:\n",
    "                swap(arr, i, j)\n",
    "    return arr\n",
    "\n",
    "def main():\n",
    "    counter = 5\n",
    "    list1 = []\n",
    "    list2 = []\n",
    "    merged_list = []\n",
    "    print(\"1.Create a list\")\n",
    "    print(\"2.Search for an element in the list\")\n",
    "    print(\"3.Merge two lists\")\n",
    "    print(\"4.Sort the list\")\n",
    "    print(\"------------------------------------\")\n",
    "    while(counter != 0):\n",
    "        option = input(\"Enter your choice: \")\n",
    "        if option == '1':\n",
    "            list1 = create()\n",
    "        elif option == '2':\n",
    "            if not list1:\n",
    "                print(\"Please create a list first!\")\n",
    "                print(\"------------------------------------\")\n",
    "            else:\n",
    "                k = int(input(\"Enter the element you're searching for: \"))\n",
    "                index = search(list1, k)\n",
    "                if index >= 0:\n",
    "                    print(\"Your element is at index\", index)\n",
    "                else:\n",
    "                    print(\"Your element is not in the list\")\n",
    "        elif option == '3':\n",
    "            if not list1:\n",
    "                print(\"Please create a list first!\")\n",
    "                print(\"------------------------------------\")\n",
    "            else:\n",
    "                list2 = create()\n",
    "                merged_list = merge(list1, list2)\n",
    "                print(\"Your merged new sorted merged list is\", merged_list)\n",
    "        elif option == '4':\n",
    "            if not list1:\n",
    "                print(\"Please create a list first!\")\n",
    "                print(\"------------------------------------\")\n",
    "            else:\n",
    "                list1 = sort(list1)\n",
    "                print(\"Your new sorted list is\", list1)\n",
    "        else:\n",
    "            counter -= 1\n",
    "            print(\"Invalid Option!\")\n",
    "            print(\"Attemps left\", counter)\n",
    "            print(\"------------------------------------\")\n",
    "    print(\"Bye bye!\")\n",
    "    return\n",
    "\n",
    "main()"
   ]
  },
  {
   "cell_type": "code",
   "execution_count": null,
   "metadata": {},
   "outputs": [],
   "source": []
  }
 ],
 "metadata": {
  "kernelspec": {
   "display_name": "Python 3",
   "language": "python",
   "name": "python3"
  },
  "language_info": {
   "codemirror_mode": {
    "name": "ipython",
    "version": 3
   },
   "file_extension": ".py",
   "mimetype": "text/x-python",
   "name": "python",
   "nbconvert_exporter": "python",
   "pygments_lexer": "ipython3",
   "version": "3.8.3"
  }
 },
 "nbformat": 4,
 "nbformat_minor": 4
}
