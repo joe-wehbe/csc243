{
 "cells": [
  {
   "cell_type": "markdown",
   "metadata": {},
   "source": [
    "# Name: Joe Wehbe"
   ]
  },
  {
   "cell_type": "markdown",
   "metadata": {},
   "source": [
    "# LAU ID# 202000908"
   ]
  },
  {
   "cell_type": "markdown",
   "metadata": {},
   "source": [
    "# Assignment 3"
   ]
  },
  {
   "cell_type": "markdown",
   "metadata": {},
   "source": [
    "Question 1:"
   ]
  },
  {
   "cell_type": "code",
   "execution_count": 2,
   "metadata": {},
   "outputs": [
    {
     "name": "stdout",
     "output_type": "stream",
     "text": [
      "Enter a string: Hello      world     !\n"
     ]
    },
    {
     "data": {
      "text/plain": [
       "'Helloworld!'"
      ]
     },
     "execution_count": 2,
     "metadata": {},
     "output_type": "execute_result"
    }
   ],
   "source": [
    "string = input(\"Enter a string: \")\n",
    "def spaceRemove(s):\n",
    "    string = ''\n",
    "    for i in range(len(s)):\n",
    "        if s[i] != ' ':\n",
    "            string += s[i]\n",
    "    return string\n",
    "spaceRemove(string)"
   ]
  },
  {
   "cell_type": "markdown",
   "metadata": {},
   "source": [
    "Question 2:"
   ]
  },
  {
   "cell_type": "code",
   "execution_count": 5,
   "metadata": {},
   "outputs": [
    {
     "name": "stdout",
     "output_type": "stream",
     "text": [
      "Enter a string: hello\n",
      "Enter a number: 2\n"
     ]
    },
    {
     "data": {
      "text/plain": [
       "'olleholleh'"
      ]
     },
     "execution_count": 5,
     "metadata": {},
     "output_type": "execute_result"
    }
   ],
   "source": [
    "string = input(\"Enter a string: \")\n",
    "concatenation_times = int(input(\"Enter a number: \"))\n",
    "def revConc(s,i):\n",
    "    reverse = ''\n",
    "    for character in range(len(s)-1,-1,-1): \n",
    "        reverse += s[character] \n",
    "    return reverse * concatenation_times\n",
    "revConc(string,concatenation_times)"
   ]
  },
  {
   "cell_type": "markdown",
   "metadata": {},
   "source": [
    "Question 3:"
   ]
  },
  {
   "cell_type": "code",
   "execution_count": 6,
   "metadata": {},
   "outputs": [
    {
     "name": "stdout",
     "output_type": "stream",
     "text": [
      "Enter a string: Hello world\n",
      "The vowels in the string are: \n",
      "e: 1\n",
      "o: 2\n"
     ]
    }
   ],
   "source": [
    "string = input(\"Enter a string: \")\n",
    "def count_vowels(s):\n",
    "    count_a = 0\n",
    "    count_o = 0\n",
    "    count_e = 0\n",
    "    count_u = 0\n",
    "    count_i = 0\n",
    "    for i in s:\n",
    "        if i in 'a' or i in 'A':\n",
    "            count_a += 1\n",
    "        if i in 'o' or i in 'O':\n",
    "            count_o +=1\n",
    "        if i in 'e' or i in 'E':\n",
    "            count_e += 1\n",
    "        if i in 'u' or i in 'U':\n",
    "            count_u += 1\n",
    "        if i in 'i' or i in 'I':\n",
    "            count_i += 1\n",
    "    print(\"The vowels in the string are: \")    \n",
    "    if count_a != 0:\n",
    "        print('a:', count_a)\n",
    "    if count_e != 0:\n",
    "        print('e:', count_e)\n",
    "    if count_i != 0:\n",
    "        print('i:', count_i)\n",
    "    if count_o != 0:\n",
    "        print('o:', count_o)\n",
    "    if count_u != 0:\n",
    "        print('u:', count_u)\n",
    "    if count_a == 0 and count_o == 0 and count_e == 0 and count_u == 0 and count_i == 0:\n",
    "        print(\"No vowels in the string.\")\n",
    "count_vowels(string)"
   ]
  },
  {
   "cell_type": "markdown",
   "metadata": {},
   "source": [
    "Question 4:"
   ]
  },
  {
   "cell_type": "code",
   "execution_count": 9,
   "metadata": {},
   "outputs": [
    {
     "name": "stdout",
     "output_type": "stream",
     "text": [
      "Enter a string: Hello World\n"
     ]
    },
    {
     "data": {
      "text/plain": [
       "'HWelloorld'"
      ]
     },
     "execution_count": 9,
     "metadata": {},
     "output_type": "execute_result"
    }
   ],
   "source": [
    "string = input(\"Enter a string: \")\n",
    "def rearrange(s):\n",
    "    string = ''\n",
    "    string1 = ''\n",
    "    for i in range(len(s)):\n",
    "        if s[i] in 'ABCDEFGHIJKLMNOPQRSTUVWXYZ' and s[i] != ' ':\n",
    "            string += s[i]\n",
    "        if s[i] not in 'ABCDEFGHIJKLMNOPQRSTUVWXYZ' and s[i] != ' ':\n",
    "            string1 += s[i]\n",
    "    return string + string1\n",
    "rearrange(string)"
   ]
  },
  {
   "cell_type": "markdown",
   "metadata": {},
   "source": [
    "Question 5:"
   ]
  },
  {
   "cell_type": "code",
   "execution_count": 1,
   "metadata": {},
   "outputs": [
    {
     "name": "stdout",
     "output_type": "stream",
     "text": [
      "Enter the first string: aabe\n",
      "Enter the second string: abde\n"
     ]
    },
    {
     "data": {
      "text/plain": [
       "False"
      ]
     },
     "execution_count": 1,
     "metadata": {},
     "output_type": "execute_result"
    }
   ],
   "source": [
    "string1 = input(\"Enter the first string: \")\n",
    "string2 = input(\"Enter the second string: \")\n",
    "def reorder(s1,s2):\n",
    "    list1 = []\n",
    "    list2 = []\n",
    "    for i in range(0,len(s1)):\n",
    "        list1.append(s1[i])\n",
    "    for i in range(0,len(s2)):\n",
    "        list2.append(s2[i])\n",
    "    def sort(list):\n",
    "        for x in range(0,len(list2)-1):\n",
    "            for y in range(x+1,len(list2)):\n",
    "                if list2[x] > list2[y]:\n",
    "                    variable = list2[x]\n",
    "                    list2[x] = list2[y]\n",
    "                    list2[y] = variable\n",
    "        return list2\n",
    "    sort(list2)\n",
    "    if list1 == list2:\n",
    "        return True\n",
    "    else:\n",
    "        return False\n",
    "reorder(string1,string2)"
   ]
  },
  {
   "cell_type": "markdown",
   "metadata": {},
   "source": [
    "Question 6:"
   ]
  },
  {
   "cell_type": "code",
   "execution_count": 26,
   "metadata": {},
   "outputs": [
    {
     "name": "stdout",
     "output_type": "stream",
     "text": [
      "\n",
      "    1. Create a list\n",
      "    2. Search for an element in the list\n",
      "    3. Merge two lists\n",
      "    4. Sort the list\n",
      "    ------------------------------------\n",
      "Enter your choice (or 0 to exit) : 2\n",
      "Please, enter option 1 to create a list and  unlock other options : 3\n",
      "Please, enter option 1 to create a list and  unlock other options : 1\n",
      "Enter the number of digits to add to the list: 4\n",
      "Add a number to the list: 1\n",
      "Add a number to the list: 6\n",
      "Add a number to the list: 2\n",
      "Add a number to the list: 3\n",
      "The list is [1, 6, 2, 3]\n",
      "\n",
      "    1. Create a list\n",
      "    2. Search for an element in the list\n",
      "    3. Merge two lists\n",
      "    4. Sort the list\n",
      "    ------------------------------------\n",
      "Enter your choice (or 0 to exit) : 2\n",
      "Option 2 chosen: Search for an element in the list.\n",
      "The list is [1, 6, 2, 3]\n",
      "Enter an element of the list to find its index: 2\n",
      "2 is found at index 2\n",
      "\n",
      "    1. Create a list\n",
      "    2. Search for an element in the list\n",
      "    3. Merge two lists\n",
      "    4. Sort the list\n",
      "    ------------------------------------\n",
      "Enter your choice (or 0 to exit) : 3\n",
      "Option 3 chosen: Merge two lists.\n",
      "The first list is [1, 6, 2, 3]\n",
      "The first list sorted is:  [1, 2, 3, 6]\n",
      "Enter the number of digits to add to the list: 1\n",
      "Add a number to the list: 4\n",
      "The second list is [4]\n",
      "The second list sorted is:  [4]\n",
      "The merged and sorted list of the first and second list is:  [1, 2, 3, 4, 6]\n",
      "\n",
      "    1. Create a list\n",
      "    2. Search for an element in the list\n",
      "    3. Merge two lists\n",
      "    4. Sort the list\n",
      "    ------------------------------------\n",
      "Enter your choice (or 0 to exit) : 4\n",
      "Option 4 chosen: Sort the list.\n",
      "The list is [1, 2, 3, 6]\n",
      "The above list sorted is: [1, 2, 3, 6]\n",
      "\n",
      "    1. Create a list\n",
      "    2. Search for an element in the list\n",
      "    3. Merge two lists\n",
      "    4. Sort the list\n",
      "    ------------------------------------\n",
      "Enter your choice (or 0 to exit) : 4\n",
      "Option 4 chosen: Sort the list.\n",
      "The list is [1, 2, 3, 6]\n",
      "The above list sorted is: [1, 2, 3, 6]\n",
      "\n",
      "    1. Create a list\n",
      "    2. Search for an element in the list\n",
      "    3. Merge two lists\n",
      "    4. Sort the list\n",
      "    ------------------------------------\n",
      "Enter your choice (or 0 to exit) : 0\n",
      "Program stopped\n"
     ]
    }
   ],
   "source": [
    "# Defining function sort() to use it later.\n",
    "def sort(list):\n",
    "    for x in range(0,len(list)-1):\n",
    "        for y in range(x+1,len(list)):\n",
    "            if list[x] > list[y]:\n",
    "                variable = list[x]\n",
    "                list[x] = list[y]\n",
    "                list[y] = variable\n",
    "    return list\n",
    "# Defining function create_list() to use it later. \n",
    "def create_list():\n",
    "    list = []\n",
    "    digits = int(input(\"Enter the number of digits to add to the list: \"))\n",
    "    for i in range(digits):\n",
    "        Add = eval(input(\"Add a number to the list: \"))\n",
    "        list.append(Add)\n",
    "    return list\n",
    "    \n",
    "sentinel = 0\n",
    "is_empty = 1\n",
    "a_list = []\n",
    "option = int()\n",
    "\n",
    "while(sentinel==0):\n",
    "    print(\"\"\"\n",
    "    1. Create a list\n",
    "    2. Search for an element in the list\n",
    "    3. Merge two lists\n",
    "    4. Sort the list\n",
    "    ------------------------------------\"\"\")\n",
    "    option = int(input(\"Enter your choice (or 0 to exit) : \"))\n",
    "    count = 0\n",
    "    \n",
    "    while (option < 0 or option > 4):\n",
    "        count += 1\n",
    "        option = int(input(\"Enter a valid option : \"))\n",
    "        if count == 5:\n",
    "            option = 0\n",
    "            print(\"5 invalid attempts\")\n",
    "                \n",
    "    if(is_empty==1 and option != 1 and option!=0):\n",
    "        while option != 1 and count < 5 and option != 0: \n",
    "            option = int(input(\"Please, enter option 1 to create a list and  unlock other options : \"))\n",
    "            count += 1\n",
    "            if count == 5:\n",
    "                option = 0\n",
    "                print(\"5 invalid attempts\")\n",
    "                    \n",
    "    if option == 0: \n",
    "        print(\"Program stopped\")\n",
    "        sentinel = 1\n",
    "    \n",
    "    if option == 1: \n",
    "        a_list = create_list()\n",
    "        is_empty=0\n",
    "        count = 0\n",
    "        print(\"The list is\",a_list)\n",
    "    \n",
    "    if option == 2:\n",
    "        print(\"Option 2 chosen: Search for an element in the list.\")\n",
    "        print(\"The list is\",a_list)\n",
    "        element = eval(input(\"Enter an element of the list to find its index: \"))\n",
    "        if element in a_list:\n",
    "            for i in range(len(a_list)):\n",
    "                if a_list[i] == element:\n",
    "                    print(element,\"is found at index\",i)\n",
    "        else:\n",
    "            print(\"Could not find this element in the list.\")\n",
    "        \n",
    "    if option == 3:\n",
    "        print(\"Option 3 chosen: Merge two lists.\")\n",
    "        print(\"The first list is\",a_list)\n",
    "        sort(a_list)\n",
    "        print(\"The first list sorted is: \",a_list)\n",
    "        b_list = create_list()\n",
    "        print(\"The second list is\",b_list)\n",
    "        sort(b_list)\n",
    "        print(\"The second list sorted is: \",b_list)\n",
    "        merged_list = a_list + b_list\n",
    "        sort(merged_list)\n",
    "        print(\"The merged and sorted list of the first and second list is: \",merged_list)\n",
    "        \n",
    "    if option == 4:\n",
    "        print(\"Option 4 chosen: Sort the list.\")\n",
    "        print(\"The list is\",a_list)\n",
    "        a_list = sort(a_list)\n",
    "        print(\"The above list sorted is:\",a_list)"
   ]
  },
  {
   "cell_type": "markdown",
   "metadata": {},
   "source": [
    "# Thank you!"
   ]
  }
 ],
 "metadata": {
  "kernelspec": {
   "display_name": "Python 3",
   "language": "python",
   "name": "python3"
  },
  "language_info": {
   "codemirror_mode": {
    "name": "ipython",
    "version": 3
   },
   "file_extension": ".py",
   "mimetype": "text/x-python",
   "name": "python",
   "nbconvert_exporter": "python",
   "pygments_lexer": "ipython3",
   "version": "3.8.3"
  }
 },
 "nbformat": 4,
 "nbformat_minor": 4
}
