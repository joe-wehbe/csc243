{
 "cells": [
  {
   "cell_type": "code",
   "execution_count": 3,
   "metadata": {},
   "outputs": [
    {
     "name": "stdout",
     "output_type": "stream",
     "text": [
      "1.Create course\n",
      "2.Remove course\n",
      "3.List all\n",
      "4.Change course\n",
      "5.Exit\n",
      "- - - - - - - - - -- -\n",
      "Enter course name: ddd\n",
      "enter course number: 123\n",
      "enter credits number: 3\n"
     ]
    },
    {
     "data": {
      "text/plain": [
       "{('ddd', 123, 3)}"
      ]
     },
     "execution_count": 3,
     "metadata": {},
     "output_type": "execute_result"
    }
   ],
   "source": [
    "print(\"1.Create course\\n2.Remove course\\n3.List all\\n4.Change course\\n5.Exit\\n- - - - - - - - - -- -\")\n",
    "#(eval(input(\"Input your choice: \")))\n",
    "class Courses:\n",
    "    def __init__(self,course_name,course_num,credits_num):\n",
    "        self.course_name = course_name\n",
    "        self.course_num = course_num\n",
    "        self.credits_num = credits_num        \n",
    "    def GetName(self):\n",
    "        return self.course_name\n",
    "    def GetNumber(self):\n",
    "        return self.course_num\n",
    "    def GetCredits(self):\n",
    "        return self.credits_num\n",
    "    def NewNumber(self,new_course_num):\n",
    "        self.course_num = new_course_num\n",
    "    def NewCredits(self,new_credits_num):\n",
    "        self.credits_num = new_credits_num               \n",
    "    def DisplayInfo(self): \n",
    "        return self.course_name,self.course_num, self.credits_num\n",
    "\n",
    "sett = set()    \n",
    "def courseChars(sett):\n",
    "    course_name = input(\"Enter course name: \")\n",
    "    course_num = eval(input(\"enter course number: \"))\n",
    "    credits_num = eval(input(\"enter credits number: \"))\n",
    "    courses_out = Courses(course_name,course_num,credits_num)\n",
    "    x = courses_out.DisplayInfo()\n",
    "    sett.add(x)\n",
    "    \n",
    "    \n",
    "    return sett                         \n",
    "(courseChars(sett))"
   ]
  },
  {
   "cell_type": "code",
   "execution_count": null,
   "metadata": {},
   "outputs": [],
   "source": []
  }
 ],
 "metadata": {
  "kernelspec": {
   "display_name": "Python 3",
   "language": "python",
   "name": "python3"
  },
  "language_info": {
   "codemirror_mode": {
    "name": "ipython",
    "version": 3
   },
   "file_extension": ".py",
   "mimetype": "text/x-python",
   "name": "python",
   "nbconvert_exporter": "python",
   "pygments_lexer": "ipython3",
   "version": "3.8.3"
  }
 },
 "nbformat": 4,
 "nbformat_minor": 4
}
