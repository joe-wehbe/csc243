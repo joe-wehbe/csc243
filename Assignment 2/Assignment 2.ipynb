{
 "cells": [
  {
   "cell_type": "markdown",
   "metadata": {},
   "source": [
    "# Assignment 2"
   ]
  },
  {
   "cell_type": "markdown",
   "metadata": {},
   "source": [
    "Question 1:"
   ]
  },
  {
   "cell_type": "code",
   "execution_count": 4,
   "metadata": {},
   "outputs": [
    {
     "name": "stdout",
     "output_type": "stream",
     "text": [
      "enter a word: respect\n",
      "enter the character that you want to replace: s\n",
      "enter the character by which you want to replace: $\n",
      "re$pect\n"
     ]
    }
   ],
   "source": [
    "s = str(input(\"enter a word: \"))\n",
    "a = str(input(\"enter the character that you want to replace: \"))\n",
    "b = str(input(\"enter the character by which you want to replace: \"))\n",
    "count = \"\"\n",
    "for letter in s:\n",
    "    if letter == a:\n",
    "        letter = b\n",
    "    count += letter\n",
    "print(count)"
   ]
  },
  {
   "cell_type": "markdown",
   "metadata": {},
   "source": [
    "Question 2:"
   ]
  },
  {
   "cell_type": "code",
   "execution_count": 1,
   "metadata": {},
   "outputs": [
    {
     "name": "stdout",
     "output_type": "stream",
     "text": [
      "enter a year greater than 0: 2000\n",
      "2000\n",
      "2004\n",
      "2008\n",
      "2012\n",
      "2016\n",
      "2020\n"
     ]
    }
   ],
   "source": [
    "year = -1\n",
    "while year <=0:\n",
    "    year = int(input(\"enter a year greater than 0: \"))\n",
    "if 0 < year <= 2020:\n",
    "    for year in range(year,2021):\n",
    "        leap_year = year\n",
    "        if year % 4 == 0:\n",
    "            if year % 100 == 0:\n",
    "                if year % 400 == 0: \n",
    "                    print(leap_year)\n",
    "            elif year % 100 != 0:\n",
    "                print(leap_year)\n",
    "        if year != 2020:\n",
    "            year += 1\n",
    "if year > 2020:    \n",
    "    for year in range(2020,year+1):\n",
    "        leap_year = year\n",
    "        if year % 4 == 0:\n",
    "            if year % 100 == 0:\n",
    "                if year % 400 == 0: \n",
    "                     print(leap_year)\n",
    "            elif year % 100 != 0:\n",
    "                 print(leap_year)\n",
    "        year += 1"
   ]
  },
  {
   "cell_type": "markdown",
   "metadata": {},
   "source": [
    "Question 3:"
   ]
  },
  {
   "cell_type": "code",
   "execution_count": 47,
   "metadata": {},
   "outputs": [
    {
     "name": "stdout",
     "output_type": "stream",
     "text": [
      "enter a number: 4\n",
      "\n",
      "*\n",
      "**\n",
      "***\n",
      "****\n"
     ]
    }
   ],
   "source": [
    "n = int(input(\"enter a number: \"))\n",
    "for n in range(0 , n+1):\n",
    "    print('*' * n)"
   ]
  },
  {
   "cell_type": "markdown",
   "metadata": {},
   "source": [
    "Question 4:"
   ]
  },
  {
   "cell_type": "code",
   "execution_count": 26,
   "metadata": {},
   "outputs": [
    {
     "name": "stdout",
     "output_type": "stream",
     "text": [
      "enter a number n greater than 0: 9\n",
      "The first 9 numbers in the Fibonacci series are: \n",
      "0\n",
      "1\n",
      "1\n",
      "2\n",
      "3\n",
      "5\n",
      "8\n",
      "13\n",
      "21\n"
     ]
    }
   ],
   "source": [
    "n = int(input(\"enter a number n greater than 0: \"))\n",
    "num1,num2 = 0,1\n",
    "count = 0\n",
    "if n <= 0: \n",
    "    print(\"The Fibonacci series requires an integer higher than 0. \")\n",
    "else:\n",
    "    print(\"The first\",n,\"numbers in the Fibonacci series are: \")\n",
    "    while count < n:\n",
    "        print(num1)\n",
    "        n_number = num1 + num2\n",
    "        num1 = num2\n",
    "        num2 = n_number\n",
    "        count = count + 1"
   ]
  },
  {
   "cell_type": "markdown",
   "metadata": {},
   "source": [
    "Question 5:"
   ]
  },
  {
   "cell_type": "code",
   "execution_count": 32,
   "metadata": {},
   "outputs": [
    {
     "name": "stdout",
     "output_type": "stream",
     "text": [
      "Enter the first number: 32\n",
      "Enter the second number: 16\n",
      "GCD of 32 and 16 is 16\n"
     ]
    }
   ],
   "source": [
    "n1 = int(input(\"Enter the first number: \"))\n",
    "n2 = int(input(\"Enter the second number: \"))\n",
    "def GCD(n1,n2):\n",
    "    if (n1 < n2):\n",
    "        d = n1\n",
    "    else:\n",
    "        d = n2\n",
    "    while (d > 0):\n",
    "        if((n1 % d == 0) and (n2 % d == 0)):\n",
    "            return d\n",
    "        d = d - 1\n",
    "gcd = GCD(n1,n2)\n",
    "print(\"GCD of\",n1,\"and\",n2,\"is\",gcd)"
   ]
  },
  {
   "cell_type": "markdown",
   "metadata": {},
   "source": [
    "Question 6:"
   ]
  },
  {
   "cell_type": "code",
   "execution_count": 3,
   "metadata": {},
   "outputs": [
    {
     "name": "stdout",
     "output_type": "stream",
     "text": [
      "Enter a word: hello\n",
      "True\n"
     ]
    }
   ],
   "source": [
    "word = str(input(\"Enter a word: \")) \n",
    "def TrueOrFalse(word):\n",
    "    string = ''\n",
    "    for letter in word:\n",
    "        if(letter == string):\n",
    "            return True\n",
    "        else:\n",
    "            string = letter\n",
    "    return False\n",
    "x = TrueOrFalse(word)\n",
    "print(x)"
   ]
  }
 ],
 "metadata": {
  "kernelspec": {
   "display_name": "Python 3 (ipykernel)",
   "language": "python",
   "name": "python3"
  },
  "language_info": {
   "codemirror_mode": {
    "name": "ipython",
    "version": 3
   },
   "file_extension": ".py",
   "mimetype": "text/x-python",
   "name": "python",
   "nbconvert_exporter": "python",
   "pygments_lexer": "ipython3",
   "version": "3.11.4"
  }
 },
 "nbformat": 4,
 "nbformat_minor": 4
}
